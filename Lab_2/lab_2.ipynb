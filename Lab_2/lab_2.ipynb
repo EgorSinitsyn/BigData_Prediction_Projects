{
 "cells": [
  {
   "metadata": {},
   "cell_type": "markdown",
   "source": "# Лабораторная работа №2",
   "id": "41c76cf0a1c6bcc2"
  },
  {
   "metadata": {},
   "cell_type": "markdown",
   "source": "# Интеллектуальный анализ данных и его применение в цифровом бизнесе",
   "id": "7852deb4155dac"
  },
  {
   "cell_type": "code",
   "id": "initial_id",
   "metadata": {
    "collapsed": true,
    "ExecuteTime": {
     "end_time": "2024-05-10T15:14:17.355946Z",
     "start_time": "2024-05-10T15:14:15.902861Z"
    }
   },
   "source": "!pip install vk-api",
   "outputs": [
    {
     "name": "stdout",
     "output_type": "stream",
     "text": [
      "Requirement already satisfied: vk-api in /Users/oudzhi/PycharmProjects/BigData_Prediction/.venv/lib/python3.11/site-packages (11.9.9)\r\n",
      "Requirement already satisfied: requests in /Users/oudzhi/PycharmProjects/BigData_Prediction/.venv/lib/python3.11/site-packages (from vk-api) (2.31.0)\r\n",
      "Requirement already satisfied: charset-normalizer<4,>=2 in /Users/oudzhi/PycharmProjects/BigData_Prediction/.venv/lib/python3.11/site-packages (from requests->vk-api) (3.3.2)\r\n",
      "Requirement already satisfied: idna<4,>=2.5 in /Users/oudzhi/PycharmProjects/BigData_Prediction/.venv/lib/python3.11/site-packages (from requests->vk-api) (3.7)\r\n",
      "Requirement already satisfied: urllib3<3,>=1.21.1 in /Users/oudzhi/PycharmProjects/BigData_Prediction/.venv/lib/python3.11/site-packages (from requests->vk-api) (2.2.1)\r\n",
      "Requirement already satisfied: certifi>=2017.4.17 in /Users/oudzhi/PycharmProjects/BigData_Prediction/.venv/lib/python3.11/site-packages (from requests->vk-api) (2024.2.2)\r\n"
     ]
    }
   ],
   "execution_count": 1
  },
  {
   "metadata": {
    "ExecuteTime": {
     "end_time": "2024-05-10T15:14:18.027268Z",
     "start_time": "2024-05-10T15:14:17.361567Z"
    }
   },
   "cell_type": "code",
   "source": [
    "import time\n",
    "import pandas as pd\n",
    "import seaborn as sns\n",
    "import numpy as np\n",
    "import math\n",
    "from matplotlib import pyplot as plt\n",
    "import vk_api\n",
    "import json\n",
    "import ast\n",
    "import re\n",
    "\n",
    "\n",
    "from sklearn.preprocessing import (\n",
    "    StandardScaler,\n",
    "    MinMaxScaler,\n",
    "    RobustScaler,\n",
    "    Normalizer\n",
    "    )\n",
    "from sklearn.cluster import KMeans\n",
    "\n",
    "import ipywidgets as widgets\n",
    "\n",
    "%matplotlib inline"
   ],
   "id": "b08fb2ec3c63dc4",
   "outputs": [],
   "execution_count": 2
  },
  {
   "metadata": {},
   "cell_type": "code",
   "source": "path_to_token = '/Users/oudzhi/PycharmProjects/BigData_Prediction/Lab_2/vk_token.txt'",
   "id": "c651f656e6205294",
   "outputs": [],
   "execution_count": 3
  },
  {
   "metadata": {
    "ExecuteTime": {
     "end_time": "2024-05-10T15:14:18.037196Z",
     "start_time": "2024-05-10T15:14:18.031918Z"
    }
   },
   "cell_type": "code",
   "source": [
    "with open(path_to_token, 'r') as file:\n",
    "    token = file.read().strip()"
   ],
   "id": "5d523fcb15dee72f",
   "outputs": [],
   "execution_count": 4
  },
  {
   "metadata": {
    "ExecuteTime": {
     "end_time": "2024-05-10T15:14:18.045216Z",
     "start_time": "2024-05-10T15:14:18.039449Z"
    }
   },
   "cell_type": "code",
   "source": [
    "# Создаем сессию VK-api:\n",
    "session = vk_api.VkApi(token=token)\n",
    "vk = session.get_api()\n",
    "\n",
    "version = 5.199"
   ],
   "id": "6694fce7fd3b719a",
   "outputs": [],
   "execution_count": 5
  },
  {
   "metadata": {
    "ExecuteTime": {
     "end_time": "2024-05-10T15:14:18.227557Z",
     "start_time": "2024-05-10T15:14:18.046269Z"
    }
   },
   "cell_type": "code",
   "source": [
    "# Делаем тестовый запрос к API для проверки валидности токена и доступности сервиса. Обрабатываем возможные ошибки аутентификации.\n",
    "try:\n",
    "    response = vk.users.get()\n",
    "    print(response)\n",
    "except vk_api.AuthError as error_msg:\n",
    "    print(\"Ошибка аутентификации:\", error_msg)\n"
   ],
   "id": "acd20cdadb8f4290",
   "outputs": [
    {
     "name": "stdout",
     "output_type": "stream",
     "text": [
      "[]\n"
     ]
    }
   ],
   "execution_count": 6
  },
  {
   "metadata": {
    "ExecuteTime": {
     "end_time": "2024-05-10T15:28:27.088404Z",
     "start_time": "2024-05-10T15:28:26.160799Z"
    }
   },
   "cell_type": "code",
   "source": [
    "friends = vk.friends.get(v=version)\n",
    "print('Количество друзей:', friends['count'])"
   ],
   "id": "77af88355a1503d7",
   "outputs": [
    {
     "ename": "ApiError",
     "evalue": "[113] Invalid user id",
     "output_type": "error",
     "traceback": [
      "\u001B[0;31m---------------------------------------------------------------------------\u001B[0m",
      "\u001B[0;31mApiError\u001B[0m                                  Traceback (most recent call last)",
      "Cell \u001B[0;32mIn[8], line 1\u001B[0m\n\u001B[0;32m----> 1\u001B[0m friends \u001B[38;5;241m=\u001B[39m \u001B[43mvk\u001B[49m\u001B[38;5;241;43m.\u001B[39;49m\u001B[43mfriends\u001B[49m\u001B[38;5;241;43m.\u001B[39;49m\u001B[43mget\u001B[49m\u001B[43m(\u001B[49m\u001B[43mv\u001B[49m\u001B[38;5;241;43m=\u001B[39;49m\u001B[43mversion\u001B[49m\u001B[43m)\u001B[49m\n\u001B[1;32m      2\u001B[0m \u001B[38;5;28mprint\u001B[39m(\u001B[38;5;124m'\u001B[39m\u001B[38;5;124mКоличество друзей:\u001B[39m\u001B[38;5;124m'\u001B[39m, friends[\u001B[38;5;124m'\u001B[39m\u001B[38;5;124mcount\u001B[39m\u001B[38;5;124m'\u001B[39m])\n",
      "File \u001B[0;32m~/PycharmProjects/BigData_Prediction/.venv/lib/python3.11/site-packages/vk_api/vk_api.py:737\u001B[0m, in \u001B[0;36mVkApiMethod.__call__\u001B[0;34m(self, **kwargs)\u001B[0m\n\u001B[1;32m    734\u001B[0m     \u001B[38;5;28;01mif\u001B[39;00m \u001B[38;5;28misinstance\u001B[39m(v, (\u001B[38;5;28mlist\u001B[39m, \u001B[38;5;28mtuple\u001B[39m)):\n\u001B[1;32m    735\u001B[0m         kwargs[k] \u001B[38;5;241m=\u001B[39m \u001B[38;5;124m'\u001B[39m\u001B[38;5;124m,\u001B[39m\u001B[38;5;124m'\u001B[39m\u001B[38;5;241m.\u001B[39mjoin(\u001B[38;5;28mstr\u001B[39m(x) \u001B[38;5;28;01mfor\u001B[39;00m x \u001B[38;5;129;01min\u001B[39;00m v)\n\u001B[0;32m--> 737\u001B[0m \u001B[38;5;28;01mreturn\u001B[39;00m \u001B[38;5;28;43mself\u001B[39;49m\u001B[38;5;241;43m.\u001B[39;49m\u001B[43m_vk\u001B[49m\u001B[38;5;241;43m.\u001B[39;49m\u001B[43mmethod\u001B[49m\u001B[43m(\u001B[49m\u001B[38;5;28;43mself\u001B[39;49m\u001B[38;5;241;43m.\u001B[39;49m\u001B[43m_method\u001B[49m\u001B[43m,\u001B[49m\u001B[43m \u001B[49m\u001B[43mkwargs\u001B[49m\u001B[43m)\u001B[49m\n",
      "File \u001B[0;32m~/PycharmProjects/BigData_Prediction/.venv/lib/python3.11/site-packages/vk_api/vk_api.py:697\u001B[0m, in \u001B[0;36mVkApi.method\u001B[0;34m(self, method, values, captcha_sid, captcha_key, raw)\u001B[0m\n\u001B[1;32m    694\u001B[0m         \u001B[38;5;28;01mif\u001B[39;00m response \u001B[38;5;129;01mis\u001B[39;00m \u001B[38;5;129;01mnot\u001B[39;00m \u001B[38;5;28;01mNone\u001B[39;00m:\n\u001B[1;32m    695\u001B[0m             \u001B[38;5;28;01mreturn\u001B[39;00m response\n\u001B[0;32m--> 697\u001B[0m     \u001B[38;5;28;01mraise\u001B[39;00m error\n\u001B[1;32m    699\u001B[0m \u001B[38;5;28;01mreturn\u001B[39;00m response \u001B[38;5;28;01mif\u001B[39;00m raw \u001B[38;5;28;01melse\u001B[39;00m response[\u001B[38;5;124m'\u001B[39m\u001B[38;5;124mresponse\u001B[39m\u001B[38;5;124m'\u001B[39m]\n",
      "\u001B[0;31mApiError\u001B[0m: [113] Invalid user id"
     ]
    }
   ],
   "execution_count": 8
  },
  {
   "metadata": {},
   "cell_type": "code",
   "source": "",
   "id": "d0e2bfebeb1f3820",
   "outputs": [],
   "execution_count": null
  }
 ],
 "metadata": {
  "kernelspec": {
   "display_name": "Python 3",
   "language": "python",
   "name": "python3"
  },
  "language_info": {
   "codemirror_mode": {
    "name": "ipython",
    "version": 2
   },
   "file_extension": ".py",
   "mimetype": "text/x-python",
   "name": "python",
   "nbconvert_exporter": "python",
   "pygments_lexer": "ipython2",
   "version": "2.7.6"
  }
 },
 "nbformat": 4,
 "nbformat_minor": 5
}
